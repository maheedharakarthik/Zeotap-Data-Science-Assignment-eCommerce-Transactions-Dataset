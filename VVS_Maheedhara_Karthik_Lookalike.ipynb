{
  "nbformat": 4,
  "nbformat_minor": 0,
  "metadata": {
    "colab": {
      "provenance": []
    },
    "kernelspec": {
      "name": "python3",
      "display_name": "Python 3"
    },
    "language_info": {
      "name": "python"
    }
  },
  "cells": [
    {
      "cell_type": "code",
      "source": [
        "from google.colab import drive\n",
        "drive.mount('/content/drive')"
      ],
      "metadata": {
        "id": "bzvjQRaxxONH"
      },
      "execution_count": null,
      "outputs": []
    },
    {
      "cell_type": "code",
      "source": [
        "#Task 2\n",
        "from sklearn.metrics.pairwise import cosine_similarity\n",
        "from sklearn.preprocessing import StandardScaler\n",
        "\n",
        "# Feature engineering for lookalike model\n",
        "customer_features = merged_data.groupby('CustomerID').agg({\n",
        "    'TotalValue': 'sum',\n",
        "    'Quantity': 'sum',\n",
        "    'ProductID': 'nunique'\n",
        "}).reset_index()\n",
        "\n",
        "# Normalize features\n",
        "scaler = StandardScaler()\n",
        "normalized_features = scaler.fit_transform(customer_features[['TotalValue', 'Quantity', 'ProductID']])\n",
        "\n",
        "# Compute similarity scores\n",
        "similarity_matrix = cosine_similarity(normalized_features)\n",
        "\n",
        "# Get top 3 similar customers for first 20 customers\n",
        "lookalike_results = {}\n",
        "for idx, customer_id in enumerate(customer_features['CustomerID'][:20]):\n",
        "    similar_indices = similarity_matrix[idx].argsort()[-4:-1][::-1]\n",
        "    lookalikes = [(customer_features['CustomerID'][i], similarity_matrix[idx][i]) for i in similar_indices]\n",
        "    lookalike_results[customer_id] = lookalikes\n",
        "\n",
        "# Create Lookalike.csv\n",
        "lookalike_df = pd.DataFrame({\n",
        "    'CustomerID': list(lookalike_results.keys()),\n",
        "    'Lookalikes': [str(lookalike_results[customer]) for customer in lookalike_results]\n",
        "})\n",
        "lookalike_df.to_csv('Lookalike.csv', index=False)\n"
      ],
      "metadata": {
        "id": "p2Qp4ldizqqE"
      },
      "execution_count": 11,
      "outputs": []
    }
  ]
}